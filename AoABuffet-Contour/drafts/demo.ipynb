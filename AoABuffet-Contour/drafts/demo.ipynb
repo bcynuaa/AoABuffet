{
 "cells": [
  {
   "cell_type": "code",
   "execution_count": 1,
   "metadata": {},
   "outputs": [
    {
     "name": "stdout",
     "output_type": "stream",
     "text": [
      "config: PyvistaSettings.py loaded\n",
      "config: CalculationSettings.py loaded\n",
      "config: FluentSettings.py loaded\n"
     ]
    }
   ],
   "source": [
    "from src.classes.CalculationTask import CalculationTask"
   ]
  },
  {
   "cell_type": "code",
   "execution_count": 2,
   "metadata": {},
   "outputs": [],
   "source": [
    "mesh_filename: str = \"001t010.cas\""
   ]
  },
  {
   "cell_type": "code",
   "execution_count": 3,
   "metadata": {},
   "outputs": [],
   "source": [
    "mach: float = 0.72"
   ]
  },
  {
   "cell_type": "code",
   "execution_count": 4,
   "metadata": {},
   "outputs": [],
   "source": [
    "attack_angle: float = 4.0"
   ]
  },
  {
   "cell_type": "code",
   "execution_count": 5,
   "metadata": {},
   "outputs": [],
   "source": [
    "calculation_task: CalculationTask = CalculationTask()\n",
    "calculation_task.setMeshFilename(mesh_filename)\n",
    "calculation_task.setMach(mach)\n",
    "calculation_task.setAttackAngle(attack_angle)"
   ]
  },
  {
   "cell_type": "code",
   "execution_count": 6,
   "metadata": {},
   "outputs": [],
   "source": [
    "calculation_task.autoCalculate()"
   ]
  },
  {
   "cell_type": "code",
   "execution_count": 7,
   "metadata": {},
   "outputs": [],
   "source": [
    "import pyvista as pv"
   ]
  },
  {
   "cell_type": "code",
   "execution_count": 8,
   "metadata": {},
   "outputs": [],
   "source": [
    "# document theme\n",
    "pv.set_plot_theme(\"document\")"
   ]
  },
  {
   "cell_type": "code",
   "execution_count": 9,
   "metadata": {},
   "outputs": [],
   "source": [
    "data = pv.read(calculation_task.write_case_filename).combine()"
   ]
  },
  {
   "cell_type": "code",
   "execution_count": 10,
   "metadata": {},
   "outputs": [],
   "source": [
    "data = data.cell_data_to_point_data()"
   ]
  },
  {
   "cell_type": "code",
   "execution_count": 11,
   "metadata": {},
   "outputs": [
    {
     "data": {
      "text/html": [
       "<table><tr><th>Header</th><th>Data Arrays</th></tr><tr><td>\n",
       "<table>\n",
       "<tr><th>UnstructuredGrid</th><th>Information</th></tr>\n",
       "<tr><td>N Cells</td><td>8992</td></tr>\n",
       "<tr><td>N Points</td><td>7062</td></tr>\n",
       "<tr><td>X Bounds</td><td>-1.885e+01, 2.000e+01</td></tr>\n",
       "<tr><td>Y Bounds</td><td>-2.000e+01, 2.000e+01</td></tr>\n",
       "<tr><td>Z Bounds</td><td>0.000e+00, 0.000e+00</td></tr>\n",
       "<tr><td>N Arrays</td><td>12</td></tr>\n",
       "</table>\n",
       "\n",
       "</td><td>\n",
       "<table>\n",
       "<tr><th>Name</th><th>Field</th><th>Type</th><th>N Comp</th><th>Min</th><th>Max</th></tr>\n",
       "<tr><td>PRESSURE</td><td>Points</td><td>float64</td><td>1</td><td>7.634e+04</td><td>1.421e+05</td></tr>\n",
       "<tr><td>X_VELOCITY</td><td>Points</td><td>float64</td><td>1</td><td>5.388e+00</td><td>3.250e+02</td></tr>\n",
       "<tr><td>Y_VELOCITY</td><td>Points</td><td>float64</td><td>1</td><td>-7.461e+01</td><td>1.387e+02</td></tr>\n",
       "<tr><td>Unnamed_3</td><td>Points</td><td>float64</td><td>1</td><td>0.000e+00</td><td>0.000e+00</td></tr>\n",
       "<tr><td>TEMPERATURE</td><td>Points</td><td>float64</td><td>1</td><td>2.756e+02</td><td>3.286e+02</td></tr>\n",
       "<tr><td>ENTHALPY</td><td>Points</td><td>float64</td><td>1</td><td>2.774e+05</td><td>3.307e+05</td></tr>\n",
       "<tr><td>TKE</td><td>Points</td><td>float64</td><td>1</td><td>4.008e-04</td><td>5.811e+02</td></tr>\n",
       "<tr><td>SDR</td><td>Points</td><td>float64</td><td>1</td><td>5.214e+01</td><td>4.066e+07</td></tr>\n",
       "<tr><td>DENSITY</td><td>Points</td><td>float64</td><td>1</td><td>8.442e-01</td><td>1.510e+00</td></tr>\n",
       "<tr><td>MU_LAM</td><td>Points</td><td>float64</td><td>1</td><td>1.831e-05</td><td>1.831e-05</td></tr>\n",
       "<tr><td>MU_TURB</td><td>Points</td><td>float64</td><td>1</td><td>3.055e-09</td><td>2.517e-02</td></tr>\n",
       "<tr><td>WALL_DIST</td><td>Points</td><td>float64</td><td>1</td><td>4.901e-06</td><td>2.501e+01</td></tr>\n",
       "</table>\n",
       "\n",
       "</td></tr> </table>"
      ],
      "text/plain": [
       "UnstructuredGrid (0x221ad2ff940)\n",
       "  N Cells:    8992\n",
       "  N Points:   7062\n",
       "  X Bounds:   -1.885e+01, 2.000e+01\n",
       "  Y Bounds:   -2.000e+01, 2.000e+01\n",
       "  Z Bounds:   0.000e+00, 0.000e+00\n",
       "  N Arrays:   12"
      ]
     },
     "execution_count": 11,
     "metadata": {},
     "output_type": "execute_result"
    }
   ],
   "source": [
    "# get PRESSURE's min and max\n",
    "pressure_min = data[\"PRESSURE\"].min()\n",
    "pressure_max = data[\"PRESSURE\"].max()\n",
    "data"
   ]
  },
  {
   "cell_type": "code",
   "execution_count": 12,
   "metadata": {},
   "outputs": [],
   "source": [
    "plotter: pv.Plotter = pv.Plotter(window_size=[1440, 1024])"
   ]
  },
  {
   "cell_type": "code",
   "execution_count": 13,
   "metadata": {},
   "outputs": [
    {
     "data": {
      "text/plain": [
       "Actor (0x221ad421300)\n",
       "  Center:                     (0.572911262512207, 0.0, 0.0)\n",
       "  Pickable:                   True\n",
       "  Position:                   (0.0, 0.0, 0.0)\n",
       "  Scale:                      (1.0, 1.0, 1.0)\n",
       "  Visible:                    True\n",
       "  X Bounds                    -1.885E+01, 2.000E+01\n",
       "  Y Bounds                    -2.000E+01, 2.000E+01\n",
       "  Z Bounds                    0.000E+00, 0.000E+00\n",
       "  User matrix:                Unset\n",
       "  Has mapper:                 True\n",
       "\n",
       "Property (0x221ad421540)\n",
       "  Ambient:                     0.0\n",
       "  Ambient color:               Color(name='tan', hex='#d2b48cff', opacity=255)\n",
       "  Anisotropy:                  0.0\n",
       "  Color:                       Color(name='tan', hex='#d2b48cff', opacity=255)\n",
       "  Culling:                     \"none\"\n",
       "  Diffuse:                     1.0\n",
       "  Diffuse color:               Color(name='tan', hex='#d2b48cff', opacity=255)\n",
       "  Edge color:                  Color(name='black', hex='#000000ff', opacity=255)\n",
       "  Interpolation:               0\n",
       "  Lighting:                    True\n",
       "  Line width:                  1.0\n",
       "  Metallic:                    0.0\n",
       "  Opacity:                     1.0\n",
       "  Point size:                  5.0\n",
       "  Render lines as tubes:       False\n",
       "  Render points as spheres:    False\n",
       "  Roughness:                   0.5\n",
       "  Show edges:                  False\n",
       "  Specular:                    0.0\n",
       "  Specular color:              Color(name='tan', hex='#d2b48cff', opacity=255)\n",
       "  Specular power:              100.0\n",
       "  Style:                       \"Surface\"\n",
       "\n",
       "DataSetMapper (0x221ad421120)\n",
       "  Scalar visibility:           True\n",
       "  Scalar range:                (50000.0, 200000.0)\n",
       "  Interpolate before mapping:  True\n",
       "  Scalar map mode:             point\n",
       "  Color mode:                  map\n",
       "\n",
       "Attached dataset:\n",
       "UnstructuredGrid (0x221ad2ff940)\n",
       "  N Cells:    8992\n",
       "  N Points:   7062\n",
       "  X Bounds:   -1.885e+01, 2.000e+01\n",
       "  Y Bounds:   -2.000e+01, 2.000e+01\n",
       "  Z Bounds:   0.000e+00, 0.000e+00\n",
       "  N Arrays:   12"
      ]
     },
     "execution_count": 13,
     "metadata": {},
     "output_type": "execute_result"
    }
   ],
   "source": [
    "plotter.add_mesh(data, show_edges=False, scalars=\"PRESSURE\", cmap=\"jet\", show_scalar_bar=False, clim=[50000, 200000], n_colors=1000)"
   ]
  },
  {
   "cell_type": "code",
   "execution_count": 14,
   "metadata": {},
   "outputs": [],
   "source": [
    "plotter.camera_position = \"xy\"\n",
    "plotter.camera.zoom(25)"
   ]
  },
  {
   "cell_type": "code",
   "execution_count": 15,
   "metadata": {},
   "outputs": [
    {
     "data": {
      "application/vnd.jupyter.widget-view+json": {
       "model_id": "694f0bd2110b4400b93f57ac53c9c95d",
       "version_major": 2,
       "version_minor": 0
      },
      "text/plain": [
       "Widget(value=\"<iframe src='http://localhost:54968/index.html?ui=P_0x221fbd931c0_0&reconnect=auto' style='width…"
      ]
     },
     "metadata": {},
     "output_type": "display_data"
    }
   ],
   "source": [
    "plotter.show()"
   ]
  },
  {
   "cell_type": "code",
   "execution_count": 16,
   "metadata": {},
   "outputs": [
    {
     "data": {
      "text/plain": [
       "array([ 7.63354844e+04,  5.38800049e+00, -7.46142902e+01,  8.44177634e-01])"
      ]
     },
     "execution_count": 16,
     "metadata": {},
     "output_type": "execute_result"
    }
   ],
   "source": [
    "calculation_task.scalar_min_array"
   ]
  },
  {
   "cell_type": "code",
   "execution_count": 17,
   "metadata": {},
   "outputs": [
    {
     "data": {
      "text/plain": [
       "array([1.42137352e+05, 3.24998062e+02, 1.38680809e+02, 1.51008415e+00])"
      ]
     },
     "execution_count": 17,
     "metadata": {},
     "output_type": "execute_result"
    }
   ],
   "source": [
    "calculation_task.scalar_max_array"
   ]
  },
  {
   "cell_type": "code",
   "execution_count": null,
   "metadata": {},
   "outputs": [],
   "source": []
  }
 ],
 "metadata": {
  "kernelspec": {
   "display_name": "Python 3",
   "language": "python",
   "name": "python3"
  },
  "language_info": {
   "codemirror_mode": {
    "name": "ipython",
    "version": 3
   },
   "file_extension": ".py",
   "mimetype": "text/x-python",
   "name": "python",
   "nbconvert_exporter": "python",
   "pygments_lexer": "ipython3",
   "version": "3.10.11"
  }
 },
 "nbformat": 4,
 "nbformat_minor": 2
}
