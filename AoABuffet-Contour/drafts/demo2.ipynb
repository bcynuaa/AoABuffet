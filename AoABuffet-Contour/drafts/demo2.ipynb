{
 "cells": [
  {
   "cell_type": "code",
   "execution_count": 1,
   "metadata": {},
   "outputs": [
    {
     "name": "stdout",
     "output_type": "stream",
     "text": [
      "config: ScalarsRangeSettings.py loaded\n",
      "config: PyvistaSettings.py loaded\n",
      "config: CalculationSettings.py loaded\n",
      "config: FluentSettings.py loaded\n",
      "classes: CalculationTask.py loaded\n",
      "classes: ScalarsRange.py loaded\n"
     ]
    }
   ],
   "source": [
    "from src.classes.ScalarsRange import ScalarsRange"
   ]
  },
  {
   "cell_type": "code",
   "execution_count": 2,
   "metadata": {},
   "outputs": [],
   "source": [
    "scalars_range = ScalarsRange()"
   ]
  },
  {
   "cell_type": "code",
   "execution_count": 3,
   "metadata": {},
   "outputs": [
    {
     "data": {
      "text/html": [
       "<div>\n",
       "<style scoped>\n",
       "    .dataframe tbody tr th:only-of-type {\n",
       "        vertical-align: middle;\n",
       "    }\n",
       "\n",
       "    .dataframe tbody tr th {\n",
       "        vertical-align: top;\n",
       "    }\n",
       "\n",
       "    .dataframe thead th {\n",
       "        text-align: right;\n",
       "    }\n",
       "</style>\n",
       "<table border=\"1\" class=\"dataframe\">\n",
       "  <thead>\n",
       "    <tr style=\"text-align: right;\">\n",
       "      <th></th>\n",
       "      <th>mesh file</th>\n",
       "      <th>mach</th>\n",
       "      <th>AoA buffet</th>\n",
       "      <th>CD</th>\n",
       "      <th>CL</th>\n",
       "      <th>working directory</th>\n",
       "      <th>flow field file</th>\n",
       "      <th>PRESSURE_min</th>\n",
       "      <th>PRESSURE_max</th>\n",
       "      <th>X_VELOCITY_min</th>\n",
       "      <th>X_VELOCITY_max</th>\n",
       "      <th>Y_VELOCITY_min</th>\n",
       "      <th>Y_VELOCITY_max</th>\n",
       "      <th>DENSITY_min</th>\n",
       "      <th>DENSITY_max</th>\n",
       "    </tr>\n",
       "  </thead>\n",
       "  <tbody>\n",
       "    <tr>\n",
       "      <th>0</th>\n",
       "      <td>001t010.cas</td>\n",
       "      <td>0.72</td>\n",
       "      <td>3.5188</td>\n",
       "      <td>0.0</td>\n",
       "      <td>0.0</td>\n",
       "      <td></td>\n",
       "      <td></td>\n",
       "      <td>0.0</td>\n",
       "      <td>0.0</td>\n",
       "      <td>0.0</td>\n",
       "      <td>0.0</td>\n",
       "      <td>0.0</td>\n",
       "      <td>0.0</td>\n",
       "      <td>0.0</td>\n",
       "      <td>0.0</td>\n",
       "    </tr>\n",
       "    <tr>\n",
       "      <th>1</th>\n",
       "      <td>001t010.cas</td>\n",
       "      <td>0.74</td>\n",
       "      <td>2.3264</td>\n",
       "      <td>0.0</td>\n",
       "      <td>0.0</td>\n",
       "      <td></td>\n",
       "      <td></td>\n",
       "      <td>0.0</td>\n",
       "      <td>0.0</td>\n",
       "      <td>0.0</td>\n",
       "      <td>0.0</td>\n",
       "      <td>0.0</td>\n",
       "      <td>0.0</td>\n",
       "      <td>0.0</td>\n",
       "      <td>0.0</td>\n",
       "    </tr>\n",
       "    <tr>\n",
       "      <th>2</th>\n",
       "      <td>001t010.cas</td>\n",
       "      <td>0.76</td>\n",
       "      <td>1.8442</td>\n",
       "      <td>0.0</td>\n",
       "      <td>0.0</td>\n",
       "      <td></td>\n",
       "      <td></td>\n",
       "      <td>0.0</td>\n",
       "      <td>0.0</td>\n",
       "      <td>0.0</td>\n",
       "      <td>0.0</td>\n",
       "      <td>0.0</td>\n",
       "      <td>0.0</td>\n",
       "      <td>0.0</td>\n",
       "      <td>0.0</td>\n",
       "    </tr>\n",
       "    <tr>\n",
       "      <th>3</th>\n",
       "      <td>001t012.cas</td>\n",
       "      <td>0.72</td>\n",
       "      <td>2.4540</td>\n",
       "      <td>0.0</td>\n",
       "      <td>0.0</td>\n",
       "      <td></td>\n",
       "      <td></td>\n",
       "      <td>0.0</td>\n",
       "      <td>0.0</td>\n",
       "      <td>0.0</td>\n",
       "      <td>0.0</td>\n",
       "      <td>0.0</td>\n",
       "      <td>0.0</td>\n",
       "      <td>0.0</td>\n",
       "      <td>0.0</td>\n",
       "    </tr>\n",
       "    <tr>\n",
       "      <th>4</th>\n",
       "      <td>001t012.cas</td>\n",
       "      <td>0.74</td>\n",
       "      <td>3.5452</td>\n",
       "      <td>0.0</td>\n",
       "      <td>0.0</td>\n",
       "      <td></td>\n",
       "      <td></td>\n",
       "      <td>0.0</td>\n",
       "      <td>0.0</td>\n",
       "      <td>0.0</td>\n",
       "      <td>0.0</td>\n",
       "      <td>0.0</td>\n",
       "      <td>0.0</td>\n",
       "      <td>0.0</td>\n",
       "      <td>0.0</td>\n",
       "    </tr>\n",
       "    <tr>\n",
       "      <th>5</th>\n",
       "      <td>001t012.cas</td>\n",
       "      <td>0.76</td>\n",
       "      <td>1.0962</td>\n",
       "      <td>0.0</td>\n",
       "      <td>0.0</td>\n",
       "      <td></td>\n",
       "      <td></td>\n",
       "      <td>0.0</td>\n",
       "      <td>0.0</td>\n",
       "      <td>0.0</td>\n",
       "      <td>0.0</td>\n",
       "      <td>0.0</td>\n",
       "      <td>0.0</td>\n",
       "      <td>0.0</td>\n",
       "      <td>0.0</td>\n",
       "    </tr>\n",
       "    <tr>\n",
       "      <th>6</th>\n",
       "      <td>002t010.cas</td>\n",
       "      <td>0.72</td>\n",
       "      <td>3.1580</td>\n",
       "      <td>0.0</td>\n",
       "      <td>0.0</td>\n",
       "      <td></td>\n",
       "      <td></td>\n",
       "      <td>0.0</td>\n",
       "      <td>0.0</td>\n",
       "      <td>0.0</td>\n",
       "      <td>0.0</td>\n",
       "      <td>0.0</td>\n",
       "      <td>0.0</td>\n",
       "      <td>0.0</td>\n",
       "      <td>0.0</td>\n",
       "    </tr>\n",
       "  </tbody>\n",
       "</table>\n",
       "</div>"
      ],
      "text/plain": [
       "     mesh file  mach  AoA buffet   CD   CL working directory flow field file  \\\n",
       "0  001t010.cas  0.72      3.5188  0.0  0.0                                     \n",
       "1  001t010.cas  0.74      2.3264  0.0  0.0                                     \n",
       "2  001t010.cas  0.76      1.8442  0.0  0.0                                     \n",
       "3  001t012.cas  0.72      2.4540  0.0  0.0                                     \n",
       "4  001t012.cas  0.74      3.5452  0.0  0.0                                     \n",
       "5  001t012.cas  0.76      1.0962  0.0  0.0                                     \n",
       "6  002t010.cas  0.72      3.1580  0.0  0.0                                     \n",
       "\n",
       "   PRESSURE_min  PRESSURE_max  X_VELOCITY_min  X_VELOCITY_max  Y_VELOCITY_min  \\\n",
       "0           0.0           0.0             0.0             0.0             0.0   \n",
       "1           0.0           0.0             0.0             0.0             0.0   \n",
       "2           0.0           0.0             0.0             0.0             0.0   \n",
       "3           0.0           0.0             0.0             0.0             0.0   \n",
       "4           0.0           0.0             0.0             0.0             0.0   \n",
       "5           0.0           0.0             0.0             0.0             0.0   \n",
       "6           0.0           0.0             0.0             0.0             0.0   \n",
       "\n",
       "   Y_VELOCITY_max  DENSITY_min  DENSITY_max  \n",
       "0             0.0          0.0          0.0  \n",
       "1             0.0          0.0          0.0  \n",
       "2             0.0          0.0          0.0  \n",
       "3             0.0          0.0          0.0  \n",
       "4             0.0          0.0          0.0  \n",
       "5             0.0          0.0          0.0  \n",
       "6             0.0          0.0          0.0  "
      ]
     },
     "execution_count": 3,
     "metadata": {},
     "output_type": "execute_result"
    }
   ],
   "source": [
    "scalars_range.buffet_aoa_df"
   ]
  },
  {
   "cell_type": "code",
   "execution_count": 4,
   "metadata": {},
   "outputs": [
    {
     "name": "stderr",
     "output_type": "stream",
     "text": [
      "  0%|          | 0/7 [00:00<?, ?it/s]"
     ]
    },
    {
     "name": "stdout",
     "output_type": "stream",
     "text": [
      "Fluent processing mesh: 001t010.cas with mach: 0.72 at row: 0\n",
      "Fluent processing mesh: 001t010.cas with mach: 0.74 at row: 1\n"
     ]
    },
    {
     "name": "stderr",
     "output_type": "stream",
     "text": [
      " 43%|████▎     | 3/7 [00:00<00:00, 26.33it/s]"
     ]
    },
    {
     "name": "stdout",
     "output_type": "stream",
     "text": [
      "Fluent processing mesh: 001t010.cas with mach: 0.76 at row: 2\n",
      "Fluent processing mesh: 001t012.cas with mach: 0.72 at row: 3\n",
      "Fluent processing mesh: 001t012.cas with mach: 0.74 at row: 4\n"
     ]
    },
    {
     "name": "stderr",
     "output_type": "stream",
     "text": [
      " 86%|████████▌ | 6/7 [00:00<00:00, 25.50it/s]"
     ]
    },
    {
     "name": "stdout",
     "output_type": "stream",
     "text": [
      "Fluent processing mesh: 001t012.cas with mach: 0.76 at row: 5\n",
      "Fluent processing mesh: 002t010.cas with mach: 0.72 at row: 6\n"
     ]
    },
    {
     "name": "stderr",
     "output_type": "stream",
     "text": [
      "100%|██████████| 7/7 [00:00<00:00, 25.76it/s]\n"
     ]
    }
   ],
   "source": [
    "scalars_range.runAll()"
   ]
  },
  {
   "cell_type": "code",
   "execution_count": 5,
   "metadata": {},
   "outputs": [
    {
     "data": {
      "text/html": [
       "<div>\n",
       "<style scoped>\n",
       "    .dataframe tbody tr th:only-of-type {\n",
       "        vertical-align: middle;\n",
       "    }\n",
       "\n",
       "    .dataframe tbody tr th {\n",
       "        vertical-align: top;\n",
       "    }\n",
       "\n",
       "    .dataframe thead th {\n",
       "        text-align: right;\n",
       "    }\n",
       "</style>\n",
       "<table border=\"1\" class=\"dataframe\">\n",
       "  <thead>\n",
       "    <tr style=\"text-align: right;\">\n",
       "      <th></th>\n",
       "      <th>mesh file</th>\n",
       "      <th>mach</th>\n",
       "      <th>AoA buffet</th>\n",
       "      <th>CD</th>\n",
       "      <th>CL</th>\n",
       "      <th>working directory</th>\n",
       "      <th>flow field file</th>\n",
       "      <th>PRESSURE_min</th>\n",
       "      <th>PRESSURE_max</th>\n",
       "      <th>X_VELOCITY_min</th>\n",
       "      <th>X_VELOCITY_max</th>\n",
       "      <th>Y_VELOCITY_min</th>\n",
       "      <th>Y_VELOCITY_max</th>\n",
       "      <th>DENSITY_min</th>\n",
       "      <th>DENSITY_max</th>\n",
       "    </tr>\n",
       "  </thead>\n",
       "  <tbody>\n",
       "    <tr>\n",
       "      <th>0</th>\n",
       "      <td>001t010.cas</td>\n",
       "      <td>0.72</td>\n",
       "      <td>3.5188</td>\n",
       "      <td>0.033633</td>\n",
       "      <td>1.051985</td>\n",
       "      <td>C://Users//bcynuaa//Desktop//LocalProject//Hel...</td>\n",
       "      <td>C://Users//bcynuaa//Desktop//LocalProject//Hel...</td>\n",
       "      <td>41579.699219</td>\n",
       "      <td>141725.812500</td>\n",
       "      <td>-12.182969</td>\n",
       "      <td>431.260368</td>\n",
       "      <td>-37.982694</td>\n",
       "      <td>218.448055</td>\n",
       "      <td>0.457541</td>\n",
       "      <td>1.506593</td>\n",
       "    </tr>\n",
       "    <tr>\n",
       "      <th>1</th>\n",
       "      <td>001t010.cas</td>\n",
       "      <td>0.74</td>\n",
       "      <td>2.3264</td>\n",
       "      <td>0.019615</td>\n",
       "      <td>0.937015</td>\n",
       "      <td>C://Users//bcynuaa//Desktop//LocalProject//Hel...</td>\n",
       "      <td>C://Users//bcynuaa//Desktop//LocalProject//Hel...</td>\n",
       "      <td>48854.833984</td>\n",
       "      <td>143532.941406</td>\n",
       "      <td>4.459183</td>\n",
       "      <td>412.833061</td>\n",
       "      <td>-45.052561</td>\n",
       "      <td>200.526810</td>\n",
       "      <td>0.532692</td>\n",
       "      <td>1.515381</td>\n",
       "    </tr>\n",
       "    <tr>\n",
       "      <th>2</th>\n",
       "      <td>001t010.cas</td>\n",
       "      <td>0.76</td>\n",
       "      <td>1.8442</td>\n",
       "      <td>0.019208</td>\n",
       "      <td>0.891145</td>\n",
       "      <td>C://Users//bcynuaa//Desktop//LocalProject//Hel...</td>\n",
       "      <td>C://Users//bcynuaa//Desktop//LocalProject//Hel...</td>\n",
       "      <td>53281.752930</td>\n",
       "      <td>144941.343750</td>\n",
       "      <td>4.678126</td>\n",
       "      <td>403.414925</td>\n",
       "      <td>-52.622926</td>\n",
       "      <td>191.134586</td>\n",
       "      <td>0.576949</td>\n",
       "      <td>1.524794</td>\n",
       "    </tr>\n",
       "    <tr>\n",
       "      <th>3</th>\n",
       "      <td>001t012.cas</td>\n",
       "      <td>0.72</td>\n",
       "      <td>2.4540</td>\n",
       "      <td>0.018578</td>\n",
       "      <td>0.940045</td>\n",
       "      <td>C://Users//bcynuaa//Desktop//LocalProject//Hel...</td>\n",
       "      <td>C://Users//bcynuaa//Desktop//LocalProject//Hel...</td>\n",
       "      <td>49011.277344</td>\n",
       "      <td>141309.894531</td>\n",
       "      <td>1.838837</td>\n",
       "      <td>407.323959</td>\n",
       "      <td>-51.406072</td>\n",
       "      <td>205.260605</td>\n",
       "      <td>0.536234</td>\n",
       "      <td>1.498536</td>\n",
       "    </tr>\n",
       "    <tr>\n",
       "      <th>4</th>\n",
       "      <td>001t012.cas</td>\n",
       "      <td>0.74</td>\n",
       "      <td>3.5452</td>\n",
       "      <td>0.046143</td>\n",
       "      <td>1.050299</td>\n",
       "      <td>C://Users//bcynuaa//Desktop//LocalProject//Hel...</td>\n",
       "      <td>C://Users//bcynuaa//Desktop//LocalProject//Hel...</td>\n",
       "      <td>46024.258789</td>\n",
       "      <td>144062.000000</td>\n",
       "      <td>-13.378536</td>\n",
       "      <td>424.487930</td>\n",
       "      <td>-48.892149</td>\n",
       "      <td>216.282005</td>\n",
       "      <td>0.500969</td>\n",
       "      <td>1.520172</td>\n",
       "    </tr>\n",
       "    <tr>\n",
       "      <th>5</th>\n",
       "      <td>001t012.cas</td>\n",
       "      <td>0.76</td>\n",
       "      <td>1.0962</td>\n",
       "      <td>0.017456</td>\n",
       "      <td>0.758155</td>\n",
       "      <td>C://Users//bcynuaa//Desktop//LocalProject//Hel...</td>\n",
       "      <td>C://Users//bcynuaa//Desktop//LocalProject//Hel...</td>\n",
       "      <td>57089.964844</td>\n",
       "      <td>145685.859375</td>\n",
       "      <td>1.761386</td>\n",
       "      <td>397.462540</td>\n",
       "      <td>-73.288124</td>\n",
       "      <td>177.053387</td>\n",
       "      <td>0.638522</td>\n",
       "      <td>1.535617</td>\n",
       "    </tr>\n",
       "    <tr>\n",
       "      <th>6</th>\n",
       "      <td>002t010.cas</td>\n",
       "      <td>0.72</td>\n",
       "      <td>3.1580</td>\n",
       "      <td>0.027199</td>\n",
       "      <td>1.012718</td>\n",
       "      <td>C://Users//bcynuaa//Desktop//LocalProject//Hel...</td>\n",
       "      <td>C://Users//bcynuaa//Desktop//LocalProject//Hel...</td>\n",
       "      <td>43032.066406</td>\n",
       "      <td>141863.718750</td>\n",
       "      <td>-8.789809</td>\n",
       "      <td>426.718414</td>\n",
       "      <td>-45.281817</td>\n",
       "      <td>218.982250</td>\n",
       "      <td>0.473511</td>\n",
       "      <td>1.508470</td>\n",
       "    </tr>\n",
       "  </tbody>\n",
       "</table>\n",
       "</div>"
      ],
      "text/plain": [
       "     mesh file  mach  AoA buffet        CD        CL  \\\n",
       "0  001t010.cas  0.72      3.5188  0.033633  1.051985   \n",
       "1  001t010.cas  0.74      2.3264  0.019615  0.937015   \n",
       "2  001t010.cas  0.76      1.8442  0.019208  0.891145   \n",
       "3  001t012.cas  0.72      2.4540  0.018578  0.940045   \n",
       "4  001t012.cas  0.74      3.5452  0.046143  1.050299   \n",
       "5  001t012.cas  0.76      1.0962  0.017456  0.758155   \n",
       "6  002t010.cas  0.72      3.1580  0.027199  1.012718   \n",
       "\n",
       "                                   working directory  \\\n",
       "0  C://Users//bcynuaa//Desktop//LocalProject//Hel...   \n",
       "1  C://Users//bcynuaa//Desktop//LocalProject//Hel...   \n",
       "2  C://Users//bcynuaa//Desktop//LocalProject//Hel...   \n",
       "3  C://Users//bcynuaa//Desktop//LocalProject//Hel...   \n",
       "4  C://Users//bcynuaa//Desktop//LocalProject//Hel...   \n",
       "5  C://Users//bcynuaa//Desktop//LocalProject//Hel...   \n",
       "6  C://Users//bcynuaa//Desktop//LocalProject//Hel...   \n",
       "\n",
       "                                     flow field file  PRESSURE_min  \\\n",
       "0  C://Users//bcynuaa//Desktop//LocalProject//Hel...  41579.699219   \n",
       "1  C://Users//bcynuaa//Desktop//LocalProject//Hel...  48854.833984   \n",
       "2  C://Users//bcynuaa//Desktop//LocalProject//Hel...  53281.752930   \n",
       "3  C://Users//bcynuaa//Desktop//LocalProject//Hel...  49011.277344   \n",
       "4  C://Users//bcynuaa//Desktop//LocalProject//Hel...  46024.258789   \n",
       "5  C://Users//bcynuaa//Desktop//LocalProject//Hel...  57089.964844   \n",
       "6  C://Users//bcynuaa//Desktop//LocalProject//Hel...  43032.066406   \n",
       "\n",
       "    PRESSURE_max  X_VELOCITY_min  X_VELOCITY_max  Y_VELOCITY_min  \\\n",
       "0  141725.812500      -12.182969      431.260368      -37.982694   \n",
       "1  143532.941406        4.459183      412.833061      -45.052561   \n",
       "2  144941.343750        4.678126      403.414925      -52.622926   \n",
       "3  141309.894531        1.838837      407.323959      -51.406072   \n",
       "4  144062.000000      -13.378536      424.487930      -48.892149   \n",
       "5  145685.859375        1.761386      397.462540      -73.288124   \n",
       "6  141863.718750       -8.789809      426.718414      -45.281817   \n",
       "\n",
       "   Y_VELOCITY_max  DENSITY_min  DENSITY_max  \n",
       "0      218.448055     0.457541     1.506593  \n",
       "1      200.526810     0.532692     1.515381  \n",
       "2      191.134586     0.576949     1.524794  \n",
       "3      205.260605     0.536234     1.498536  \n",
       "4      216.282005     0.500969     1.520172  \n",
       "5      177.053387     0.638522     1.535617  \n",
       "6      218.982250     0.473511     1.508470  "
      ]
     },
     "execution_count": 5,
     "metadata": {},
     "output_type": "execute_result"
    }
   ],
   "source": [
    "scalars_range.buffet_aoa_df"
   ]
  },
  {
   "cell_type": "code",
   "execution_count": 6,
   "metadata": {},
   "outputs": [
    {
     "data": {
      "text/plain": [
       "PRESSURE_min      41579.699219\n",
       "X_VELOCITY_min      -13.378536\n",
       "Y_VELOCITY_min      -73.288124\n",
       "DENSITY_min           0.457541\n",
       "dtype: float64"
      ]
     },
     "execution_count": 6,
     "metadata": {},
     "output_type": "execute_result"
    }
   ],
   "source": [
    "scalars_range.scalar_min_series"
   ]
  },
  {
   "cell_type": "code",
   "execution_count": 7,
   "metadata": {},
   "outputs": [
    {
     "data": {
      "text/plain": [
       "PRESSURE_max      145685.859375\n",
       "X_VELOCITY_max       431.260368\n",
       "Y_VELOCITY_max       218.982250\n",
       "DENSITY_max            1.535617\n",
       "dtype: float64"
      ]
     },
     "execution_count": 7,
     "metadata": {},
     "output_type": "execute_result"
    }
   ],
   "source": [
    "scalars_range.scalar_max_series"
   ]
  },
  {
   "cell_type": "code",
   "execution_count": 8,
   "metadata": {},
   "outputs": [],
   "source": [
    "import pandas as pd"
   ]
  },
  {
   "cell_type": "code",
   "execution_count": 9,
   "metadata": {},
   "outputs": [],
   "source": [
    "# combine max and mi series\n",
    "min_max_df = pd.concat([scalars_range.scalar_min_series, scalars_range.scalar_max_series])\n",
    "\n",
    "min_max_df.sort_index(inplace=True)\n",
    "\n",
    "# min_max_df.to_csv('min_max.csv')"
   ]
  },
  {
   "cell_type": "code",
   "execution_count": 10,
   "metadata": {},
   "outputs": [
    {
     "data": {
      "text/plain": [
       "DENSITY_max            1.535617\n",
       "DENSITY_min            0.457541\n",
       "PRESSURE_max      145685.859375\n",
       "PRESSURE_min       41579.699219\n",
       "X_VELOCITY_max       431.260368\n",
       "X_VELOCITY_min       -13.378536\n",
       "Y_VELOCITY_max       218.982250\n",
       "Y_VELOCITY_min       -73.288124\n",
       "dtype: float64"
      ]
     },
     "execution_count": 10,
     "metadata": {},
     "output_type": "execute_result"
    }
   ],
   "source": [
    "min_max_df"
   ]
  },
  {
   "cell_type": "code",
   "execution_count": null,
   "metadata": {},
   "outputs": [],
   "source": []
  }
 ],
 "metadata": {
  "kernelspec": {
   "display_name": "Python 3",
   "language": "python",
   "name": "python3"
  },
  "language_info": {
   "codemirror_mode": {
    "name": "ipython",
    "version": 3
   },
   "file_extension": ".py",
   "mimetype": "text/x-python",
   "name": "python",
   "nbconvert_exporter": "python",
   "pygments_lexer": "ipython3",
   "version": "3.10.11"
  }
 },
 "nbformat": 4,
 "nbformat_minor": 2
}
