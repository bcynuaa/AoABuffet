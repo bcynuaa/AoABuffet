{
 "cells": [
  {
   "cell_type": "code",
   "execution_count": 1,
   "metadata": {},
   "outputs": [
    {
     "name": "stdout",
     "output_type": "stream",
     "text": [
      "current working directory:  c:\\Users\\bcynuaa\\Desktop\\LocalProject\\Help\\CFDPostFlutterHelp\\CODE\\AoABuffet-FluentBackend\n"
     ]
    }
   ],
   "source": [
    "# change to root directory\n",
    "import os\n",
    "os.chdir(\"..//\")\n",
    "print(\"current working directory: \", os.getcwd())"
   ]
  },
  {
   "cell_type": "code",
   "execution_count": 2,
   "metadata": {},
   "outputs": [
    {
     "name": "stdout",
     "output_type": "stream",
     "text": [
      "config: CalculationSettings.py loaded\n",
      "config: FluentSettings.py loaded\n",
      "utils: Path.py loaded\n",
      "classes: CalculationTask.py loaded\n"
     ]
    }
   ],
   "source": [
    "from src.classes.CalculationTask import *"
   ]
  },
  {
   "cell_type": "code",
   "execution_count": 3,
   "metadata": {},
   "outputs": [],
   "source": [
    "ct: CalculationTask = CalculationTask()"
   ]
  },
  {
   "cell_type": "code",
   "execution_count": 4,
   "metadata": {},
   "outputs": [],
   "source": [
    "ct.setWorkingDirectory(\"C://AoABuffet-FluentBackend//Data//001t010\")\n",
    "ct.setReadCaseFilename(\"C://AoABuffet-FluentBackend//Mesh//001t010.cas\")\n",
    "ct.setMach(0.76)\n",
    "ct.setAoA(4.0)\n",
    "ct.setIterations(2000)"
   ]
  },
  {
   "cell_type": "code",
   "execution_count": 5,
   "metadata": {},
   "outputs": [
    {
     "name": "stdout",
     "output_type": "stream",
     "text": [
      "task folder created: C://AoABuffet-FluentBackend//Data//001t010\\mach_0.760\\AoA_4.000\n",
      "tui commands written: C://AoABuffet-FluentBackend//Data//001t010\\mach_0.760\\AoA_4.000\\start.jou\n",
      "task finished with return code: 0\n",
      "mach: 0.76, AoA: 4.00, CL: 1.0389, CD: 0.0594\n",
      "----------------------------------------------------------------------------------\n"
     ]
    }
   ],
   "source": [
    "ct.autoCalculate()"
   ]
  },
  {
   "cell_type": "code",
   "execution_count": 6,
   "metadata": {},
   "outputs": [
    {
     "data": {
      "text/html": [
       "<div>\n",
       "<style scoped>\n",
       "    .dataframe tbody tr th:only-of-type {\n",
       "        vertical-align: middle;\n",
       "    }\n",
       "\n",
       "    .dataframe tbody tr th {\n",
       "        vertical-align: top;\n",
       "    }\n",
       "\n",
       "    .dataframe thead th {\n",
       "        text-align: right;\n",
       "    }\n",
       "</style>\n",
       "<table border=\"1\" class=\"dataframe\">\n",
       "  <thead>\n",
       "    <tr style=\"text-align: right;\">\n",
       "      <th></th>\n",
       "      <th>mach</th>\n",
       "      <th>AoA</th>\n",
       "      <th>CL</th>\n",
       "      <th>CD</th>\n",
       "      <th>cmd</th>\n",
       "      <th>task folder</th>\n",
       "      <th>read case filename</th>\n",
       "      <th>write case filename</th>\n",
       "      <th>cd report filename</th>\n",
       "      <th>cl report filename</th>\n",
       "      <th>tui commands filename</th>\n",
       "      <th>return code</th>\n",
       "    </tr>\n",
       "  </thead>\n",
       "  <tbody>\n",
       "    <tr>\n",
       "      <th>0</th>\n",
       "      <td>0.76</td>\n",
       "      <td>4.0</td>\n",
       "      <td>1.038856</td>\n",
       "      <td>0.059371</td>\n",
       "      <td>C://SoftWare//Ansys//ANSYS Inc//v222//fluent//...</td>\n",
       "      <td>C://AoABuffet-FluentBackend//Data//001t010\\mac...</td>\n",
       "      <td>C://AoABuffet-FluentBackend//Mesh//001t010.cas</td>\n",
       "      <td>C://AoABuffet-FluentBackend//Data//001t010\\mac...</td>\n",
       "      <td>C://AoABuffet-FluentBackend//Data//001t010\\mac...</td>\n",
       "      <td>C://AoABuffet-FluentBackend//Data//001t010\\mac...</td>\n",
       "      <td>C://AoABuffet-FluentBackend//Data//001t010\\mac...</td>\n",
       "      <td>0</td>\n",
       "    </tr>\n",
       "  </tbody>\n",
       "</table>\n",
       "</div>"
      ],
      "text/plain": [
       "   mach  AoA        CL        CD  \\\n",
       "0  0.76  4.0  1.038856  0.059371   \n",
       "\n",
       "                                                 cmd  \\\n",
       "0  C://SoftWare//Ansys//ANSYS Inc//v222//fluent//...   \n",
       "\n",
       "                                         task folder  \\\n",
       "0  C://AoABuffet-FluentBackend//Data//001t010\\mac...   \n",
       "\n",
       "                               read case filename  \\\n",
       "0  C://AoABuffet-FluentBackend//Mesh//001t010.cas   \n",
       "\n",
       "                                 write case filename  \\\n",
       "0  C://AoABuffet-FluentBackend//Data//001t010\\mac...   \n",
       "\n",
       "                                  cd report filename  \\\n",
       "0  C://AoABuffet-FluentBackend//Data//001t010\\mac...   \n",
       "\n",
       "                                  cl report filename  \\\n",
       "0  C://AoABuffet-FluentBackend//Data//001t010\\mac...   \n",
       "\n",
       "                               tui commands filename  return code  \n",
       "0  C://AoABuffet-FluentBackend//Data//001t010\\mac...            0  "
      ]
     },
     "execution_count": 6,
     "metadata": {},
     "output_type": "execute_result"
    }
   ],
   "source": [
    "ct.dataframe"
   ]
  },
  {
   "cell_type": "code",
   "execution_count": null,
   "metadata": {},
   "outputs": [],
   "source": []
  }
 ],
 "metadata": {
  "kernelspec": {
   "display_name": "Python 3",
   "language": "python",
   "name": "python3"
  },
  "language_info": {
   "codemirror_mode": {
    "name": "ipython",
    "version": 3
   },
   "file_extension": ".py",
   "mimetype": "text/x-python",
   "name": "python",
   "nbconvert_exporter": "python",
   "pygments_lexer": "ipython3",
   "version": "3.10.11"
  },
  "orig_nbformat": 4
 },
 "nbformat": 4,
 "nbformat_minor": 2
}
