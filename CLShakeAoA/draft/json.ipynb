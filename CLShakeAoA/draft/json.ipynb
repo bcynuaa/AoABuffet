{
 "cells": [
  {
   "cell_type": "code",
   "execution_count": 1,
   "metadata": {},
   "outputs": [],
   "source": [
    "import json"
   ]
  },
  {
   "cell_type": "code",
   "execution_count": 2,
   "metadata": {},
   "outputs": [],
   "source": [
    "filename = \"..//config//shared_config.json\""
   ]
  },
  {
   "cell_type": "code",
   "execution_count": 3,
   "metadata": {},
   "outputs": [
    {
     "data": {
      "text/plain": [
       "{'cfl3d exe': {'exe path': '..//..//Calculation//Calculation0704',\n",
       "  'exe filename': 'cfl3d_Seq.exe'},\n",
       " 'mesh files': {'mesh files path': '..//..//Calculation//Calculation0704//meshes',\n",
       "  'mesh files format': '.x',\n",
       "  'airfoil geometry and grid': {'nn': 1001,\n",
       "   'n_cst': 10,\n",
       "   'j0': 61,\n",
       "   'j1': 381,\n",
       "   'G_Tail': 9}},\n",
       " 'working condition': {'Minf_list': [0.72, 0.74, 0.76],\n",
       "  'CL_cruise': 0.7,\n",
       "  'Re': 10000000.0}}"
      ]
     },
     "execution_count": 3,
     "metadata": {},
     "output_type": "execute_result"
    }
   ],
   "source": [
    "data = json.load(open(filename))\n",
    "data"
   ]
  },
  {
   "cell_type": "code",
   "execution_count": null,
   "metadata": {},
   "outputs": [],
   "source": []
  }
 ],
 "metadata": {
  "kernelspec": {
   "display_name": "Python 3",
   "language": "python",
   "name": "python3"
  },
  "language_info": {
   "codemirror_mode": {
    "name": "ipython",
    "version": 3
   },
   "file_extension": ".py",
   "mimetype": "text/x-python",
   "name": "python",
   "nbconvert_exporter": "python",
   "pygments_lexer": "ipython3",
   "version": "3.10.11"
  },
  "orig_nbformat": 4
 },
 "nbformat": 4,
 "nbformat_minor": 2
}
