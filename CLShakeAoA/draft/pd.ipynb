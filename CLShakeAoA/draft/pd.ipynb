{
 "cells": [
  {
   "cell_type": "code",
   "execution_count": 10,
   "metadata": {},
   "outputs": [],
   "source": [
    "import numpy as np\n",
    "import pandas as pd"
   ]
  },
  {
   "cell_type": "code",
   "execution_count": 11,
   "metadata": {},
   "outputs": [],
   "source": [
    "nrow = 10\n",
    "ncol = 3\n",
    "df = pd.DataFrame(np.random.randn(nrow, ncol), columns=['a', 'b', 'c'])"
   ]
  },
  {
   "cell_type": "code",
   "execution_count": 12,
   "metadata": {},
   "outputs": [
    {
     "data": {
      "text/html": [
       "<div>\n",
       "<style scoped>\n",
       "    .dataframe tbody tr th:only-of-type {\n",
       "        vertical-align: middle;\n",
       "    }\n",
       "\n",
       "    .dataframe tbody tr th {\n",
       "        vertical-align: top;\n",
       "    }\n",
       "\n",
       "    .dataframe thead th {\n",
       "        text-align: right;\n",
       "    }\n",
       "</style>\n",
       "<table border=\"1\" class=\"dataframe\">\n",
       "  <thead>\n",
       "    <tr style=\"text-align: right;\">\n",
       "      <th></th>\n",
       "      <th>a</th>\n",
       "      <th>b</th>\n",
       "      <th>c</th>\n",
       "    </tr>\n",
       "  </thead>\n",
       "  <tbody>\n",
       "    <tr>\n",
       "      <th>0</th>\n",
       "      <td>0.139893</td>\n",
       "      <td>-1.389790</td>\n",
       "      <td>-2.304661</td>\n",
       "    </tr>\n",
       "    <tr>\n",
       "      <th>1</th>\n",
       "      <td>0.524534</td>\n",
       "      <td>-0.015394</td>\n",
       "      <td>0.847630</td>\n",
       "    </tr>\n",
       "    <tr>\n",
       "      <th>2</th>\n",
       "      <td>0.951011</td>\n",
       "      <td>0.256067</td>\n",
       "      <td>1.451138</td>\n",
       "    </tr>\n",
       "    <tr>\n",
       "      <th>3</th>\n",
       "      <td>-1.749100</td>\n",
       "      <td>0.273230</td>\n",
       "      <td>1.701057</td>\n",
       "    </tr>\n",
       "    <tr>\n",
       "      <th>4</th>\n",
       "      <td>-1.017045</td>\n",
       "      <td>0.117855</td>\n",
       "      <td>1.102518</td>\n",
       "    </tr>\n",
       "    <tr>\n",
       "      <th>5</th>\n",
       "      <td>-1.499335</td>\n",
       "      <td>0.564638</td>\n",
       "      <td>-1.908530</td>\n",
       "    </tr>\n",
       "    <tr>\n",
       "      <th>6</th>\n",
       "      <td>1.750534</td>\n",
       "      <td>1.083549</td>\n",
       "      <td>1.517281</td>\n",
       "    </tr>\n",
       "    <tr>\n",
       "      <th>7</th>\n",
       "      <td>-0.423074</td>\n",
       "      <td>2.546144</td>\n",
       "      <td>-0.524095</td>\n",
       "    </tr>\n",
       "    <tr>\n",
       "      <th>8</th>\n",
       "      <td>-1.128273</td>\n",
       "      <td>1.885199</td>\n",
       "      <td>-0.540993</td>\n",
       "    </tr>\n",
       "    <tr>\n",
       "      <th>9</th>\n",
       "      <td>-1.186108</td>\n",
       "      <td>1.270360</td>\n",
       "      <td>0.796720</td>\n",
       "    </tr>\n",
       "  </tbody>\n",
       "</table>\n",
       "</div>"
      ],
      "text/plain": [
       "          a         b         c\n",
       "0  0.139893 -1.389790 -2.304661\n",
       "1  0.524534 -0.015394  0.847630\n",
       "2  0.951011  0.256067  1.451138\n",
       "3 -1.749100  0.273230  1.701057\n",
       "4 -1.017045  0.117855  1.102518\n",
       "5 -1.499335  0.564638 -1.908530\n",
       "6  1.750534  1.083549  1.517281\n",
       "7 -0.423074  2.546144 -0.524095\n",
       "8 -1.128273  1.885199 -0.540993\n",
       "9 -1.186108  1.270360  0.796720"
      ]
     },
     "execution_count": 12,
     "metadata": {},
     "output_type": "execute_result"
    }
   ],
   "source": [
    "df"
   ]
  },
  {
   "cell_type": "code",
   "execution_count": 13,
   "metadata": {},
   "outputs": [
    {
     "data": {
      "text/html": [
       "<div>\n",
       "<style scoped>\n",
       "    .dataframe tbody tr th:only-of-type {\n",
       "        vertical-align: middle;\n",
       "    }\n",
       "\n",
       "    .dataframe tbody tr th {\n",
       "        vertical-align: top;\n",
       "    }\n",
       "\n",
       "    .dataframe thead th {\n",
       "        text-align: right;\n",
       "    }\n",
       "</style>\n",
       "<table border=\"1\" class=\"dataframe\">\n",
       "  <thead>\n",
       "    <tr style=\"text-align: right;\">\n",
       "      <th></th>\n",
       "      <th>a</th>\n",
       "      <th>b</th>\n",
       "      <th>c</th>\n",
       "    </tr>\n",
       "  </thead>\n",
       "  <tbody>\n",
       "    <tr>\n",
       "      <th>3</th>\n",
       "      <td>-1.749100</td>\n",
       "      <td>0.273230</td>\n",
       "      <td>1.701057</td>\n",
       "    </tr>\n",
       "    <tr>\n",
       "      <th>5</th>\n",
       "      <td>-1.499335</td>\n",
       "      <td>0.564638</td>\n",
       "      <td>-1.908530</td>\n",
       "    </tr>\n",
       "    <tr>\n",
       "      <th>9</th>\n",
       "      <td>-1.186108</td>\n",
       "      <td>1.270360</td>\n",
       "      <td>0.796720</td>\n",
       "    </tr>\n",
       "    <tr>\n",
       "      <th>8</th>\n",
       "      <td>-1.128273</td>\n",
       "      <td>1.885199</td>\n",
       "      <td>-0.540993</td>\n",
       "    </tr>\n",
       "    <tr>\n",
       "      <th>4</th>\n",
       "      <td>-1.017045</td>\n",
       "      <td>0.117855</td>\n",
       "      <td>1.102518</td>\n",
       "    </tr>\n",
       "    <tr>\n",
       "      <th>7</th>\n",
       "      <td>-0.423074</td>\n",
       "      <td>2.546144</td>\n",
       "      <td>-0.524095</td>\n",
       "    </tr>\n",
       "    <tr>\n",
       "      <th>0</th>\n",
       "      <td>0.139893</td>\n",
       "      <td>-1.389790</td>\n",
       "      <td>-2.304661</td>\n",
       "    </tr>\n",
       "    <tr>\n",
       "      <th>1</th>\n",
       "      <td>0.524534</td>\n",
       "      <td>-0.015394</td>\n",
       "      <td>0.847630</td>\n",
       "    </tr>\n",
       "    <tr>\n",
       "      <th>2</th>\n",
       "      <td>0.951011</td>\n",
       "      <td>0.256067</td>\n",
       "      <td>1.451138</td>\n",
       "    </tr>\n",
       "    <tr>\n",
       "      <th>6</th>\n",
       "      <td>1.750534</td>\n",
       "      <td>1.083549</td>\n",
       "      <td>1.517281</td>\n",
       "    </tr>\n",
       "  </tbody>\n",
       "</table>\n",
       "</div>"
      ],
      "text/plain": [
       "          a         b         c\n",
       "3 -1.749100  0.273230  1.701057\n",
       "5 -1.499335  0.564638 -1.908530\n",
       "9 -1.186108  1.270360  0.796720\n",
       "8 -1.128273  1.885199 -0.540993\n",
       "4 -1.017045  0.117855  1.102518\n",
       "7 -0.423074  2.546144 -0.524095\n",
       "0  0.139893 -1.389790 -2.304661\n",
       "1  0.524534 -0.015394  0.847630\n",
       "2  0.951011  0.256067  1.451138\n",
       "6  1.750534  1.083549  1.517281"
      ]
     },
     "execution_count": 13,
     "metadata": {},
     "output_type": "execute_result"
    }
   ],
   "source": [
    "# sort by \"a\"\n",
    "df.sort_values(by='a')"
   ]
  },
  {
   "cell_type": "code",
   "execution_count": 14,
   "metadata": {},
   "outputs": [],
   "source": [
    "# find the max of \"a\" and the second max of \"a\"\n",
    "max_a = df['a'].max()\n",
    "max_a_2 = df[df['a'] != max_a]['a'].max()"
   ]
  },
  {
   "cell_type": "code",
   "execution_count": 15,
   "metadata": {},
   "outputs": [
    {
     "data": {
      "text/plain": [
       "(1.7505335832565867, 0.9510111539546141)"
      ]
     },
     "execution_count": 15,
     "metadata": {},
     "output_type": "execute_result"
    }
   ],
   "source": [
    "max_a, max_a_2"
   ]
  },
  {
   "cell_type": "code",
   "execution_count": 16,
   "metadata": {},
   "outputs": [
    {
     "data": {
      "text/plain": [
       "1.7505335832565867"
      ]
     },
     "execution_count": 16,
     "metadata": {},
     "output_type": "execute_result"
    }
   ],
   "source": [
    "df[df[\"a\"] > 0][\"a\"].max()"
   ]
  },
  {
   "cell_type": "code",
   "execution_count": 29,
   "metadata": {},
   "outputs": [
    {
     "data": {
      "text/plain": [
       "True"
      ]
     },
     "execution_count": 29,
     "metadata": {},
     "output_type": "execute_result"
    }
   ],
   "source": [
    "df1 = df[0 < df[\"a\"]]\n",
    "df2 = df1[df1[\"a\"] >10].empty\n",
    "df2"
   ]
  },
  {
   "cell_type": "code",
   "execution_count": null,
   "metadata": {},
   "outputs": [],
   "source": []
  }
 ],
 "metadata": {
  "kernelspec": {
   "display_name": "Python 3",
   "language": "python",
   "name": "python3"
  },
  "language_info": {
   "codemirror_mode": {
    "name": "ipython",
    "version": 3
   },
   "file_extension": ".py",
   "mimetype": "text/x-python",
   "name": "python",
   "nbconvert_exporter": "python",
   "pygments_lexer": "ipython3",
   "version": "3.10.11"
  },
  "orig_nbformat": 4
 },
 "nbformat": 4,
 "nbformat_minor": 2
}
