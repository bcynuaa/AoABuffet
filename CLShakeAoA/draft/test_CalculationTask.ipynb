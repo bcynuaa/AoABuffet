{
 "cells": [
  {
   "cell_type": "code",
   "execution_count": 1,
   "metadata": {},
   "outputs": [
    {
     "name": "stdout",
     "output_type": "stream",
     "text": [
      "Current working directory: c:\\Users\\bcynuaa\\Desktop\\LocalProject\\Help\\CFDPostFlutterHelp\\CODE\\CLShakeAoA\n"
     ]
    }
   ],
   "source": [
    "# change directory to the root of the project (assuming that the notebook is in the draft folder)\n",
    "import os\n",
    "os.chdir(\"..\")\n",
    "print(\"Current working directory: %s\" % os.getcwd())"
   ]
  },
  {
   "cell_type": "code",
   "execution_count": 2,
   "metadata": {},
   "outputs": [
    {
     "name": "stdout",
     "output_type": "stream",
     "text": [
      "config: Cfl3d.py is imported.\n",
      "config: InpFileSettings.py is imported.\n",
      "config: CalculationSettings.py is imported.\n",
      "config: Meshes.py is imported.\n",
      "utils: Path is imported.\n",
      "utils: RunExe is imported.\n",
      "classes: CalculationTask imported\n"
     ]
    }
   ],
   "source": [
    "from src.classes.CalculationTask import CalculationTask"
   ]
  },
  {
   "cell_type": "code",
   "execution_count": 3,
   "metadata": {},
   "outputs": [
    {
     "name": "stdout",
     "output_type": "stream",
     "text": [
      "Task folder created: C:\\Project\\Data\\001_t010\\M_0.720\\A_0.500\n"
     ]
    }
   ],
   "source": [
    "mesh_file: str = \"C://Project//Mesh//001_t010.x\"\n",
    "mesh_file = os.path.abspath(mesh_file)\n",
    "\n",
    "Minf: float = 0.72\n",
    "AoA: float = 0.5\n",
    "dt: float = -0.2\n",
    "CL = 0.72\n",
    "\n",
    "ct: CalculationTask = CalculationTask(mesh_file, Minf)\n",
    "\n",
    "ct.setTask(AoA, dt)"
   ]
  },
  {
   "cell_type": "code",
   "execution_count": 4,
   "metadata": {},
   "outputs": [
    {
     "name": "stdout",
     "output_type": "stream",
     "text": [
      "Inp file overwritten: C:\\Project\\CFL3D\\cfl3d.inp\n",
      "Running calculation task for \n",
      "mesh: C:\\Project\\Mesh\\001_t010.x, Minf: 0.720000, AoA: 0.500000, dt: -0.200000\n",
      "Files copied from exe path to task folder: C:\\Project\\Data\\001_t010\\M_0.720\\A_0.500\n",
      "Calculation task finished\n",
      "Results readed\n"
     ]
    }
   ],
   "source": [
    "ct.autoCalculate()"
   ]
  },
  {
   "cell_type": "code",
   "execution_count": 5,
   "metadata": {},
   "outputs": [
    {
     "data": {
      "text/html": [
       "<div>\n",
       "<style scoped>\n",
       "    .dataframe tbody tr th:only-of-type {\n",
       "        vertical-align: middle;\n",
       "    }\n",
       "\n",
       "    .dataframe tbody tr th {\n",
       "        vertical-align: top;\n",
       "    }\n",
       "\n",
       "    .dataframe thead th {\n",
       "        text-align: right;\n",
       "    }\n",
       "</style>\n",
       "<table border=\"1\" class=\"dataframe\">\n",
       "  <thead>\n",
       "    <tr style=\"text-align: right;\">\n",
       "      <th></th>\n",
       "      <th>mesh filename</th>\n",
       "      <th>Minf</th>\n",
       "      <th>AoA</th>\n",
       "      <th>dt</th>\n",
       "      <th>CL cruise</th>\n",
       "      <th>converge</th>\n",
       "      <th>CL</th>\n",
       "      <th>CD</th>\n",
       "      <th>Cm</th>\n",
       "      <th>CDp</th>\n",
       "      <th>CDf</th>\n",
       "      <th>AoA output</th>\n",
       "      <th>dudy min</th>\n",
       "      <th>CL err</th>\n",
       "      <th>CD err</th>\n",
       "      <th>Cm err</th>\n",
       "      <th>CDp err</th>\n",
       "      <th>CDf err</th>\n",
       "      <th>AoA output err</th>\n",
       "      <th>task folder</th>\n",
       "    </tr>\n",
       "  </thead>\n",
       "  <tbody>\n",
       "    <tr>\n",
       "      <th>0</th>\n",
       "      <td>001_t010</td>\n",
       "      <td>0.72</td>\n",
       "      <td>0.5</td>\n",
       "      <td>-0.2</td>\n",
       "      <td>NaN</td>\n",
       "      <td>True</td>\n",
       "      <td>0.676943</td>\n",
       "      <td>0.001979</td>\n",
       "      <td>0.159462</td>\n",
       "      <td>0.001979</td>\n",
       "      <td>8.590873e-08</td>\n",
       "      <td>0.0</td>\n",
       "      <td>64541.52975822991</td>\n",
       "      <td>0.005989</td>\n",
       "      <td>0.001131</td>\n",
       "      <td>0.003865</td>\n",
       "      <td>0.001131</td>\n",
       "      <td>8.348000e-12</td>\n",
       "      <td>0.0</td>\n",
       "      <td>C:\\Project\\Data\\001_t010\\M_0.720\\A_0.500</td>\n",
       "    </tr>\n",
       "  </tbody>\n",
       "</table>\n",
       "</div>"
      ],
      "text/plain": [
       "  mesh filename  Minf  AoA   dt  CL cruise  converge        CL        CD  \\\n",
       "0      001_t010  0.72  0.5 -0.2        NaN      True  0.676943  0.001979   \n",
       "\n",
       "         Cm       CDp           CDf  AoA output           dudy min    CL err  \\\n",
       "0  0.159462  0.001979  8.590873e-08         0.0  64541.52975822991  0.005989   \n",
       "\n",
       "     CD err    Cm err   CDp err       CDf err  AoA output err  \\\n",
       "0  0.001131  0.003865  0.001131  8.348000e-12             0.0   \n",
       "\n",
       "                                task folder  \n",
       "0  C:\\Project\\Data\\001_t010\\M_0.720\\A_0.500  "
      ]
     },
     "execution_count": 5,
     "metadata": {},
     "output_type": "execute_result"
    }
   ],
   "source": [
    "ct.dataframe"
   ]
  },
  {
   "cell_type": "code",
   "execution_count": null,
   "metadata": {},
   "outputs": [],
   "source": []
  }
 ],
 "metadata": {
  "kernelspec": {
   "display_name": "Python 3",
   "language": "python",
   "name": "python3"
  },
  "language_info": {
   "codemirror_mode": {
    "name": "ipython",
    "version": 3
   },
   "file_extension": ".py",
   "mimetype": "text/x-python",
   "name": "python",
   "nbconvert_exporter": "python",
   "pygments_lexer": "ipython3",
   "version": "3.10.11"
  },
  "orig_nbformat": 4
 },
 "nbformat": 4,
 "nbformat_minor": 2
}
